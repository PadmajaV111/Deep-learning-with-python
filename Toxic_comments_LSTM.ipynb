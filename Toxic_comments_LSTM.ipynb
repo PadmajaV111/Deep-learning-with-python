{
  "nbformat": 4,
  "nbformat_minor": 0,
  "metadata": {
    "colab": {
      "name": "Toxic_comments_LSTM.ipynb",
      "provenance": [],
      "collapsed_sections": []
    },
    "kernelspec": {
      "name": "python3",
      "display_name": "Python 3"
    },
    "accelerator": "GPU"
  },
  "cells": [
    {
      "cell_type": "markdown",
      "metadata": {
        "id": "qYXdhxj6f9oq",
        "colab_type": "text"
      },
      "source": [
        "######Dataset: https://www.kaggle.com/fizzbuzz/cleaned-toxic-comments"
      ]
    },
    {
      "cell_type": "code",
      "metadata": {
        "id": "gf_64mfFeKlt",
        "colab_type": "code",
        "colab": {}
      },
      "source": [
        "import os\n",
        "import matplotlib.pyplot as plt\n",
        "import numpy as np\n",
        "import pandas as pd\n",
        "import tensorflow as tf"
      ],
      "execution_count": null,
      "outputs": []
    },
    {
      "cell_type": "code",
      "metadata": {
        "id": "EYOavjvkowoK",
        "colab_type": "code",
        "colab": {}
      },
      "source": [
        "from __future__ import print_function, division\n",
        "from builtins import range"
      ],
      "execution_count": null,
      "outputs": []
    },
    {
      "cell_type": "code",
      "metadata": {
        "id": "x2eUTG4doBUt",
        "colab_type": "code",
        "colab": {}
      },
      "source": [
        "from tensorflow.keras.preprocessing.text import Tokenizer\n",
        "from tensorflow.keras.preprocessing.sequence import pad_sequences\n",
        "from tensorflow.keras.layers import GlobalMaxPooling1D, Dense, Input\n",
        "from tensorflow.keras.layers import Conv1D, MaxPooling1D, Embedding\n",
        "from tensorflow.keras.models import Model\n",
        "from sklearn.metrics import roc_auc_score"
      ],
      "execution_count": null,
      "outputs": []
    },
    {
      "cell_type": "code",
      "metadata": {
        "id": "jx58sn0uyLB4",
        "colab_type": "code",
        "colab": {}
      },
      "source": [
        "from tensorflow.keras.models import Sequential\n",
        "from tensorflow.keras.layers import LSTM, Flatten"
      ],
      "execution_count": null,
      "outputs": []
    },
    {
      "cell_type": "code",
      "metadata": {
        "id": "RQg870nUQ52Y",
        "colab_type": "code",
        "colab": {
          "base_uri": "https://localhost:8080/",
          "height": 35
        },
        "outputId": "2fe677a1-c93c-42b6-d7d7-dc2d7c5191be"
      },
      "source": [
        "os.getcwd()"
      ],
      "execution_count": null,
      "outputs": [
        {
          "output_type": "execute_result",
          "data": {
            "application/vnd.google.colaboratory.intrinsic+json": {
              "type": "string"
            },
            "text/plain": [
              "'/content'"
            ]
          },
          "metadata": {
            "tags": []
          },
          "execution_count": 5
        }
      ]
    },
    {
      "cell_type": "code",
      "metadata": {
        "id": "mXr7jtNHRjHu",
        "colab_type": "code",
        "colab": {}
      },
      "source": [
        "# some configuration\n",
        "MAX_SEQUENCE_LENGTH = 50\n",
        "MAX_VOCAB_SIZE = 20000\n",
        "EMBEDDING_DIM = 50\n",
        "VALIDATION_SPLIT = 0.2"
      ],
      "execution_count": null,
      "outputs": []
    },
    {
      "cell_type": "code",
      "metadata": {
        "id": "tZOrmtNnDIF1",
        "colab_type": "code",
        "colab": {
          "base_uri": "https://localhost:8080/",
          "height": 35
        },
        "outputId": "65757a58-9030-406f-84c8-8d72b6956514"
      },
      "source": [
        "#Load GloVe 50 d\n",
        "word2vec = {}\n",
        "f = open('/content/drive/My Drive/glove.6B.50d.txt',\"r\", errors = \"ignore\",encoding='utf8')\n",
        "#First word of every line is the wrod and subsequent numbers are vectors corresponding to the first word\n",
        "for line in f:\n",
        "  values = line.split(' ')\n",
        "  word = values[0]\n",
        "  vec = np.asarray(values[1:], dtype=np.float32)\n",
        "  word2vec[word] = vec\n",
        "print('Found %s word vectors.' % len(word2vec))"
      ],
      "execution_count": null,
      "outputs": [
        {
          "output_type": "stream",
          "text": [
            "Found 400000 word vectors.\n"
          ],
          "name": "stdout"
        }
      ]
    },
    {
      "cell_type": "code",
      "metadata": {
        "id": "jKEpe3AJhXOh",
        "colab_type": "code",
        "colab": {}
      },
      "source": [
        "#Preparing train and test data\n",
        "train = pd.read_csv('/content/drive/My Drive/train_preprocessed.csv')\n",
        "sents = train['comment_text'].fillna(\"dummy\").values\n",
        "labels = ['toxic', 'severe_toxic', 'obscene', 'threat', 'insult', 'identity_hate']\n",
        "target = train[labels].values"
      ],
      "execution_count": null,
      "outputs": []
    },
    {
      "cell_type": "code",
      "metadata": {
        "id": "T4NK6eBun1uF",
        "colab_type": "code",
        "colab": {}
      },
      "source": [
        "#Convert sents to int\n",
        "tokenizer = Tokenizer(num_words = 20000)\n",
        "tokenizer.fit_on_texts(sents)\n",
        "sequences = tokenizer.texts_to_sequences(sents)"
      ],
      "execution_count": null,
      "outputs": []
    },
    {
      "cell_type": "code",
      "metadata": {
        "id": "CNeBPzR2oes3",
        "colab_type": "code",
        "colab": {
          "base_uri": "https://localhost:8080/",
          "height": 35
        },
        "outputId": "e6db5039-2850-4f08-f4fa-cff204ede446"
      },
      "source": [
        "#Word to index\n",
        "wordtoid = tokenizer.word_index\n",
        "print(len(wordtoid))"
      ],
      "execution_count": null,
      "outputs": [
        {
          "output_type": "stream",
          "text": [
            "166929\n"
          ],
          "name": "stdout"
        }
      ]
    },
    {
      "cell_type": "code",
      "metadata": {
        "id": "uNSP3MQDpWXh",
        "colab_type": "code",
        "colab": {
          "base_uri": "https://localhost:8080/",
          "height": 35
        },
        "outputId": "f9d66c86-d6c2-401d-b47e-88c751f72989"
      },
      "source": [
        "#Add padding to sequences to get equal length matrix\n",
        "data = pad_sequences(sequences, maxlen = 50)\n",
        "print(data.shape)"
      ],
      "execution_count": null,
      "outputs": [
        {
          "output_type": "stream",
          "text": [
            "(159571, 50)\n"
          ],
          "name": "stdout"
        }
      ]
    },
    {
      "cell_type": "code",
      "metadata": {
        "id": "m97C99qxqD5J",
        "colab_type": "code",
        "colab": {}
      },
      "source": [
        "#Input for embedding layer\n",
        "num_words = min(MAX_VOCAB_SIZE, len(wordtoid) + 1)\n",
        "embedding_matrix = np.zeros((num_words, EMBEDDING_DIM))\n",
        "for word, i in wordtoid.items():\n",
        "  if i < MAX_VOCAB_SIZE:\n",
        "    embedding_vector = word2vec.get(word)\n",
        "    if embedding_vector is not None:\n",
        "      # words not found in embedding index will be all zeros.\n",
        "      embedding_matrix[i] = embedding_vector #Words not present in embedding vectors will be zeros \n"
      ],
      "execution_count": null,
      "outputs": []
    },
    {
      "cell_type": "code",
      "metadata": {
        "id": "yx-2Qx1frXfc",
        "colab_type": "code",
        "colab": {
          "base_uri": "https://localhost:8080/",
          "height": 35
        },
        "outputId": "a614b21b-2f0f-4fc2-a47c-f7e14acfade2"
      },
      "source": [
        "print(len(embedding_matrix))"
      ],
      "execution_count": null,
      "outputs": [
        {
          "output_type": "stream",
          "text": [
            "20000\n"
          ],
          "name": "stdout"
        }
      ]
    },
    {
      "cell_type": "code",
      "metadata": {
        "id": "oPjLGECfsNFf",
        "colab_type": "code",
        "colab": {}
      },
      "source": [
        "#Load pretrained to embedding layer\n",
        "embedding_layer = Embedding(num_words, 50, weights = [embedding_matrix], input_length=100, trainable = False)"
      ],
      "execution_count": null,
      "outputs": []
    },
    {
      "cell_type": "code",
      "metadata": {
        "id": "GJLXVqPns43S",
        "colab_type": "code",
        "colab": {}
      },
      "source": [
        "#Train model\n",
        "input_std = Input(shape = (MAX_SEQUENCE_LENGTH, ))\n",
        "X = Embedding(MAX_VOCAB_SIZE, 128, input_length=MAX_SEQUENCE_LENGTH)(input_std)\n",
        "X = Conv1D(128,3, activation='relu')(X)\n",
        "X = MaxPooling1D(3)(X)\n",
        "X = Conv1D(128,3, activation='relu')(X)\n",
        "X = MaxPooling1D(3)(X)\n",
        "X = Conv1D(128,3, activation='relu')(X)\n",
        "X = GlobalMaxPooling1D()(X)\n",
        "X = Dense(128, activation='relu')(X)\n",
        "output = Dense(len(labels), activation= 'sigmoid')(X)\n",
        "\n",
        "model1 = Model(inputs = input_std, outputs = output)"
      ],
      "execution_count": null,
      "outputs": []
    },
    {
      "cell_type": "code",
      "metadata": {
        "id": "WHNYCD4ZhmwI",
        "colab_type": "code",
        "colab": {
          "base_uri": "https://localhost:8080/",
          "height": 503
        },
        "outputId": "aea04375-b790-4da7-8bcc-18de4c0882fa"
      },
      "source": [
        "model1.summary()"
      ],
      "execution_count": null,
      "outputs": [
        {
          "output_type": "stream",
          "text": [
            "Model: \"model\"\n",
            "_________________________________________________________________\n",
            "Layer (type)                 Output Shape              Param #   \n",
            "=================================================================\n",
            "input_1 (InputLayer)         [(None, 50)]              0         \n",
            "_________________________________________________________________\n",
            "embedding_1 (Embedding)      (None, 50, 128)           2560000   \n",
            "_________________________________________________________________\n",
            "conv1d (Conv1D)              (None, 48, 128)           49280     \n",
            "_________________________________________________________________\n",
            "max_pooling1d (MaxPooling1D) (None, 16, 128)           0         \n",
            "_________________________________________________________________\n",
            "conv1d_1 (Conv1D)            (None, 14, 128)           49280     \n",
            "_________________________________________________________________\n",
            "max_pooling1d_1 (MaxPooling1 (None, 4, 128)            0         \n",
            "_________________________________________________________________\n",
            "conv1d_2 (Conv1D)            (None, 2, 128)            49280     \n",
            "_________________________________________________________________\n",
            "global_max_pooling1d (Global (None, 128)               0         \n",
            "_________________________________________________________________\n",
            "dense (Dense)                (None, 128)               16512     \n",
            "_________________________________________________________________\n",
            "dense_1 (Dense)              (None, 6)                 774       \n",
            "=================================================================\n",
            "Total params: 2,725,126\n",
            "Trainable params: 2,725,126\n",
            "Non-trainable params: 0\n",
            "_________________________________________________________________\n"
          ],
          "name": "stdout"
        }
      ]
    },
    {
      "cell_type": "code",
      "metadata": {
        "id": "LTggZyV1hXdt",
        "colab_type": "code",
        "colab": {}
      },
      "source": [
        "#Compile the model\n",
        "from tensorflow.keras.optimizers import RMSprop\n",
        "model1.compile(loss = 'binary_crossentropy', optimizer = RMSprop(lr=0.00001), metrics = ['accuracy'])"
      ],
      "execution_count": null,
      "outputs": []
    },
    {
      "cell_type": "code",
      "metadata": {
        "id": "n40xlpT2h7MH",
        "colab_type": "code",
        "colab": {
          "base_uri": "https://localhost:8080/",
          "height": 1000
        },
        "outputId": "df6f11f1-1a3e-4450-e8cb-5539803fbec0"
      },
      "source": [
        "#Training model\n",
        "hist1 = model1.fit(data, target, epochs = 40, batch_size=128, validation_split=0.2)"
      ],
      "execution_count": null,
      "outputs": [
        {
          "output_type": "stream",
          "text": [
            "Epoch 1/40\n",
            "998/998 [==============================] - 27s 27ms/step - loss: 0.0221 - accuracy: 0.9687 - val_loss: 1.1376 - val_accuracy: 0.9191\n",
            "Epoch 2/40\n",
            "998/998 [==============================] - 25s 25ms/step - loss: 0.0220 - accuracy: 0.9714 - val_loss: 1.1235 - val_accuracy: 0.9152\n",
            "Epoch 3/40\n",
            "998/998 [==============================] - 25s 26ms/step - loss: 0.0219 - accuracy: 0.9715 - val_loss: 1.1452 - val_accuracy: 0.9192\n",
            "Epoch 4/40\n",
            "998/998 [==============================] - 24s 24ms/step - loss: 0.0219 - accuracy: 0.9721 - val_loss: 1.1225 - val_accuracy: 0.9139\n",
            "Epoch 5/40\n",
            "998/998 [==============================] - 24s 24ms/step - loss: 0.0219 - accuracy: 0.9717 - val_loss: 1.1521 - val_accuracy: 0.9206\n",
            "Epoch 6/40\n",
            "998/998 [==============================] - 24s 24ms/step - loss: 0.0219 - accuracy: 0.9733 - val_loss: 1.1521 - val_accuracy: 0.9214\n",
            "Epoch 7/40\n",
            "998/998 [==============================] - 24s 24ms/step - loss: 0.0219 - accuracy: 0.9724 - val_loss: 1.1647 - val_accuracy: 0.9209\n",
            "Epoch 8/40\n",
            "998/998 [==============================] - 24s 24ms/step - loss: 0.0218 - accuracy: 0.9730 - val_loss: 1.1711 - val_accuracy: 0.9224\n",
            "Epoch 9/40\n",
            "998/998 [==============================] - 24s 24ms/step - loss: 0.0218 - accuracy: 0.9722 - val_loss: 1.1606 - val_accuracy: 0.9188\n",
            "Epoch 10/40\n",
            "998/998 [==============================] - 24s 24ms/step - loss: 0.0218 - accuracy: 0.9730 - val_loss: 1.1757 - val_accuracy: 0.9218\n",
            "Epoch 11/40\n",
            "998/998 [==============================] - 25s 25ms/step - loss: 0.0218 - accuracy: 0.9739 - val_loss: 1.1577 - val_accuracy: 0.9183\n",
            "Epoch 12/40\n",
            "998/998 [==============================] - 25s 25ms/step - loss: 0.0218 - accuracy: 0.9727 - val_loss: 1.1507 - val_accuracy: 0.9170\n",
            "Epoch 13/40\n",
            "998/998 [==============================] - 24s 24ms/step - loss: 0.0218 - accuracy: 0.9725 - val_loss: 1.1611 - val_accuracy: 0.9194\n",
            "Epoch 14/40\n",
            "998/998 [==============================] - 24s 24ms/step - loss: 0.0218 - accuracy: 0.9731 - val_loss: 1.1758 - val_accuracy: 0.9195\n",
            "Epoch 15/40\n",
            "998/998 [==============================] - 24s 24ms/step - loss: 0.0218 - accuracy: 0.9733 - val_loss: 1.1855 - val_accuracy: 0.9188\n",
            "Epoch 16/40\n",
            "998/998 [==============================] - 24s 24ms/step - loss: 0.0218 - accuracy: 0.9732 - val_loss: 1.1727 - val_accuracy: 0.9199\n",
            "Epoch 17/40\n",
            "998/998 [==============================] - 24s 24ms/step - loss: 0.0218 - accuracy: 0.9740 - val_loss: 1.1782 - val_accuracy: 0.9191\n",
            "Epoch 18/40\n",
            "998/998 [==============================] - 24s 24ms/step - loss: 0.0218 - accuracy: 0.9732 - val_loss: 1.1981 - val_accuracy: 0.9229\n",
            "Epoch 19/40\n",
            "998/998 [==============================] - 24s 24ms/step - loss: 0.0217 - accuracy: 0.9738 - val_loss: 1.1768 - val_accuracy: 0.9193\n",
            "Epoch 20/40\n",
            "998/998 [==============================] - 24s 24ms/step - loss: 0.0217 - accuracy: 0.9738 - val_loss: 1.1940 - val_accuracy: 0.9220\n",
            "Epoch 21/40\n",
            "998/998 [==============================] - 24s 24ms/step - loss: 0.0217 - accuracy: 0.9735 - val_loss: 1.1896 - val_accuracy: 0.9202\n",
            "Epoch 22/40\n",
            "998/998 [==============================] - 24s 24ms/step - loss: 0.0217 - accuracy: 0.9730 - val_loss: 1.1960 - val_accuracy: 0.9224\n",
            "Epoch 23/40\n",
            "998/998 [==============================] - 24s 24ms/step - loss: 0.0217 - accuracy: 0.9734 - val_loss: 1.1833 - val_accuracy: 0.9192\n",
            "Epoch 24/40\n",
            "998/998 [==============================] - 24s 24ms/step - loss: 0.0217 - accuracy: 0.9733 - val_loss: 1.1898 - val_accuracy: 0.9183\n",
            "Epoch 25/40\n",
            "998/998 [==============================] - 24s 24ms/step - loss: 0.0217 - accuracy: 0.9731 - val_loss: 1.1947 - val_accuracy: 0.9194\n",
            "Epoch 26/40\n",
            "998/998 [==============================] - 24s 24ms/step - loss: 0.0217 - accuracy: 0.9733 - val_loss: 1.1962 - val_accuracy: 0.9203\n",
            "Epoch 27/40\n",
            "998/998 [==============================] - 24s 24ms/step - loss: 0.0217 - accuracy: 0.9726 - val_loss: 1.2162 - val_accuracy: 0.9223\n",
            "Epoch 28/40\n",
            "998/998 [==============================] - 24s 24ms/step - loss: 0.0217 - accuracy: 0.9731 - val_loss: 1.2036 - val_accuracy: 0.9232\n",
            "Epoch 29/40\n",
            "998/998 [==============================] - 24s 24ms/step - loss: 0.0217 - accuracy: 0.9740 - val_loss: 1.1951 - val_accuracy: 0.9217\n",
            "Epoch 30/40\n",
            "998/998 [==============================] - 24s 24ms/step - loss: 0.0217 - accuracy: 0.9737 - val_loss: 1.2170 - val_accuracy: 0.9214\n",
            "Epoch 31/40\n",
            "998/998 [==============================] - 24s 24ms/step - loss: 0.0217 - accuracy: 0.9733 - val_loss: 1.2227 - val_accuracy: 0.9252\n",
            "Epoch 32/40\n",
            "998/998 [==============================] - 24s 24ms/step - loss: 0.0217 - accuracy: 0.9736 - val_loss: 1.2181 - val_accuracy: 0.9207\n",
            "Epoch 33/40\n",
            "998/998 [==============================] - 24s 24ms/step - loss: 0.0217 - accuracy: 0.9733 - val_loss: 1.2228 - val_accuracy: 0.9222\n",
            "Epoch 34/40\n",
            "998/998 [==============================] - 25s 25ms/step - loss: 0.0217 - accuracy: 0.9730 - val_loss: 1.2149 - val_accuracy: 0.9196\n",
            "Epoch 35/40\n",
            "998/998 [==============================] - 30s 30ms/step - loss: 0.0217 - accuracy: 0.9731 - val_loss: 1.2192 - val_accuracy: 0.9216\n",
            "Epoch 36/40\n",
            "998/998 [==============================] - 26s 26ms/step - loss: 0.0216 - accuracy: 0.9729 - val_loss: 1.2184 - val_accuracy: 0.9151\n",
            "Epoch 37/40\n",
            "998/998 [==============================] - 26s 26ms/step - loss: 0.0216 - accuracy: 0.9725 - val_loss: 1.2128 - val_accuracy: 0.9175\n",
            "Epoch 38/40\n",
            "998/998 [==============================] - 26s 26ms/step - loss: 0.0217 - accuracy: 0.9729 - val_loss: 1.2327 - val_accuracy: 0.9219\n",
            "Epoch 39/40\n",
            "998/998 [==============================] - 26s 26ms/step - loss: 0.0216 - accuracy: 0.9730 - val_loss: 1.2295 - val_accuracy: 0.9209\n",
            "Epoch 40/40\n",
            "998/998 [==============================] - 26s 26ms/step - loss: 0.0216 - accuracy: 0.9738 - val_loss: 1.2245 - val_accuracy: 0.9233\n"
          ],
          "name": "stdout"
        }
      ]
    },
    {
      "cell_type": "code",
      "metadata": {
        "id": "t4dZ3_aFmBS5",
        "colab_type": "code",
        "colab": {
          "base_uri": "https://localhost:8080/",
          "height": 573
        },
        "outputId": "1b3205de-98ad-4989-ebcc-96b0dbaa3c05"
      },
      "source": [
        "#Plotting loss and accuracy\n",
        "plt.plot(hist1.history['loss'], label = 'loss', color = 'blue')\n",
        "plt.plot(hist1.history['val_loss'], label = 'Val_loss', color = 'orange')\n",
        "plt.grid(True)\n",
        "plt.title(\"Training and Validation Loss with epochs\")\n",
        "plt.xlabel(\"Number of epochs\")\n",
        "plt.ylabel(\"Training and validation loss\")\n",
        "plt.legend()\n",
        "plt.show()\n",
        "\n",
        "plt.plot(hist1.history['accuracy'], label = 'accuracy', color = 'blue')\n",
        "plt.plot(hist1.history['val_accuracy'], label = 'val_accuracy', color = 'orange')\n",
        "plt.grid(True)\n",
        "plt.title(\"Training and Validation accuracy with epochs\")\n",
        "plt.xlabel(\"Number of epochs\")\n",
        "plt.ylabel(\"Training and validation loss\")\n",
        "plt.legend()\n",
        "plt.show()"
      ],
      "execution_count": null,
      "outputs": [
        {
          "output_type": "display_data",
          "data": {
            "image/png": "[encoded data removed]",
            "text/plain": [
              "<Figure size 432x288 with 1 Axes>"
            ]
          },
          "metadata": {
            "tags": [],
            "needs_background": "light"
          }
        },
        {
          "output_type": "display_data",
          "data": {
            "image/png": "[encoded data removed]",
            "text/plain": [
              "<Figure size 432x288 with 1 Axes>"
            ]
          },
          "metadata": {
            "tags": [],
            "needs_background": "light"
          }
        }
      ]
    },
    {
      "cell_type": "code",
      "metadata": {
        "id": "LQhaqtFEmRZ6",
        "colab_type": "code",
        "colab": {}
      },
      "source": [
        "input_std = Input(shape = (MAX_SEQUENCE_LENGTH, ))\n",
        "X = Embedding(MAX_VOCAB_SIZE, 128, input_length=MAX_SEQUENCE_LENGTH)(input_std)\n",
        "X = LSTM(50, dropout = 0.2)(X)\n",
        "output_X = Dense(len(labels), activation='sigmoid')(X)\n",
        "model2 = Model(inputs = input_std, outputs = output_X)\n"
      ],
      "execution_count": null,
      "outputs": []
    },
    {
      "cell_type": "code",
      "metadata": {
        "id": "wf6H3C5xtT_V",
        "colab_type": "code",
        "colab": {
          "base_uri": "https://localhost:8080/",
          "height": 295
        },
        "outputId": "7e154203-70c1-414f-cf63-a7a17f6aea69"
      },
      "source": [
        "model2.summary()"
      ],
      "execution_count": null,
      "outputs": [
        {
          "output_type": "stream",
          "text": [
            "Model: \"model_1\"\n",
            "_________________________________________________________________\n",
            "Layer (type)                 Output Shape              Param #   \n",
            "=================================================================\n",
            "input_2 (InputLayer)         [(None, 50)]              0         \n",
            "_________________________________________________________________\n",
            "embedding_2 (Embedding)      (None, 50, 128)           2560000   \n",
            "_________________________________________________________________\n",
            "lstm (LSTM)                  (None, 50)                35800     \n",
            "_________________________________________________________________\n",
            "dense_2 (Dense)              (None, 6)                 306       \n",
            "=================================================================\n",
            "Total params: 2,596,106\n",
            "Trainable params: 2,596,106\n",
            "Non-trainable params: 0\n",
            "_________________________________________________________________\n"
          ],
          "name": "stdout"
        }
      ]
    },
    {
      "cell_type": "code",
      "metadata": {
        "id": "PDUBmEBJ2tdP",
        "colab_type": "code",
        "colab": {}
      },
      "source": [
        "from tensorflow.keras.optimizers import RMSprop\n",
        "model2.compile(loss = 'binary_crossentropy', optimizer = RMSprop(lr=0.00001), metrics = ['accuracy'])\n",
        "#model2.compile(optimizer= RMSprop(lr=0.0001), loss = binary_crossentropy, metrics = ['accuracy'])"
      ],
      "execution_count": null,
      "outputs": []
    },
    {
      "cell_type": "code",
      "metadata": {
        "id": "gdf0aEw5279G",
        "colab_type": "code",
        "colab": {
          "base_uri": "https://localhost:8080/",
          "height": 1000
        },
        "outputId": "ecfd9bb1-f16d-4cf1-ec63-6e9fd132e07f"
      },
      "source": [
        "hist2 = model2.fit(data, target, epochs=40, batch_size=128, validation_split=0.2, verbose=2)"
      ],
      "execution_count": null,
      "outputs": [
        {
          "output_type": "stream",
          "text": [
            "Epoch 1/40\n",
            "998/998 - 27s - loss: 0.6485 - accuracy: 0.3196 - val_loss: 0.5331 - val_accuracy: 0.0762\n",
            "Epoch 2/40\n",
            "998/998 - 27s - loss: 0.3109 - accuracy: 0.0091 - val_loss: 0.2095 - val_accuracy: 0.0034\n",
            "Epoch 3/40\n",
            "998/998 - 27s - loss: 0.1808 - accuracy: 0.8224 - val_loss: 0.1609 - val_accuracy: 0.9941\n",
            "Epoch 4/40\n",
            "998/998 - 27s - loss: 0.1517 - accuracy: 0.9942 - val_loss: 0.1451 - val_accuracy: 0.9941\n",
            "Epoch 5/40\n",
            "998/998 - 26s - loss: 0.1426 - accuracy: 0.9942 - val_loss: 0.1407 - val_accuracy: 0.9941\n",
            "Epoch 6/40\n",
            "998/998 - 29s - loss: 0.1398 - accuracy: 0.9941 - val_loss: 0.1387 - val_accuracy: 0.9941\n",
            "Epoch 7/40\n",
            "998/998 - 28s - loss: 0.1372 - accuracy: 0.9941 - val_loss: 0.1351 - val_accuracy: 0.9941\n",
            "Epoch 8/40\n",
            "998/998 - 27s - loss: 0.1311 - accuracy: 0.9940 - val_loss: 0.1253 - val_accuracy: 0.9940\n",
            "Epoch 9/40\n",
            "998/998 - 27s - loss: 0.1179 - accuracy: 0.9854 - val_loss: 0.1097 - val_accuracy: 0.9563\n",
            "Epoch 10/40\n",
            "998/998 - 27s - loss: 0.1020 - accuracy: 0.9498 - val_loss: 0.0960 - val_accuracy: 0.9858\n",
            "Epoch 11/40\n",
            "998/998 - 27s - loss: 0.0929 - accuracy: 0.9928 - val_loss: 0.0903 - val_accuracy: 0.9934\n",
            "Epoch 12/40\n",
            "998/998 - 27s - loss: 0.0881 - accuracy: 0.9933 - val_loss: 0.0864 - val_accuracy: 0.9933\n",
            "Epoch 13/40\n",
            "998/998 - 27s - loss: 0.0842 - accuracy: 0.9933 - val_loss: 0.0826 - val_accuracy: 0.9932\n",
            "Epoch 14/40\n",
            "998/998 - 27s - loss: 0.0807 - accuracy: 0.9934 - val_loss: 0.0795 - val_accuracy: 0.9933\n",
            "Epoch 15/40\n",
            "998/998 - 27s - loss: 0.0779 - accuracy: 0.9934 - val_loss: 0.0769 - val_accuracy: 0.9933\n",
            "Epoch 16/40\n",
            "998/998 - 28s - loss: 0.0753 - accuracy: 0.9934 - val_loss: 0.0747 - val_accuracy: 0.9935\n",
            "Epoch 17/40\n",
            "998/998 - 27s - loss: 0.0731 - accuracy: 0.9935 - val_loss: 0.0726 - val_accuracy: 0.9935\n",
            "Epoch 18/40\n",
            "998/998 - 27s - loss: 0.0711 - accuracy: 0.9936 - val_loss: 0.0710 - val_accuracy: 0.9936\n",
            "Epoch 19/40\n",
            "998/998 - 27s - loss: 0.0693 - accuracy: 0.9936 - val_loss: 0.0691 - val_accuracy: 0.9938\n",
            "Epoch 20/40\n",
            "998/998 - 27s - loss: 0.0678 - accuracy: 0.9937 - val_loss: 0.0677 - val_accuracy: 0.9939\n",
            "Epoch 21/40\n",
            "998/998 - 28s - loss: 0.0662 - accuracy: 0.9939 - val_loss: 0.0663 - val_accuracy: 0.9940\n",
            "Epoch 22/40\n",
            "998/998 - 28s - loss: 0.0648 - accuracy: 0.9940 - val_loss: 0.0652 - val_accuracy: 0.9940\n",
            "Epoch 23/40\n",
            "998/998 - 27s - loss: 0.0637 - accuracy: 0.9941 - val_loss: 0.0641 - val_accuracy: 0.9940\n",
            "Epoch 24/40\n",
            "998/998 - 27s - loss: 0.0627 - accuracy: 0.9941 - val_loss: 0.0630 - val_accuracy: 0.9940\n",
            "Epoch 25/40\n",
            "998/998 - 27s - loss: 0.0616 - accuracy: 0.9941 - val_loss: 0.0622 - val_accuracy: 0.9941\n",
            "Epoch 26/40\n",
            "998/998 - 27s - loss: 0.0607 - accuracy: 0.9941 - val_loss: 0.0614 - val_accuracy: 0.9941\n",
            "Epoch 27/40\n",
            "998/998 - 27s - loss: 0.0598 - accuracy: 0.9942 - val_loss: 0.0606 - val_accuracy: 0.9941\n",
            "Epoch 28/40\n",
            "998/998 - 28s - loss: 0.0591 - accuracy: 0.9942 - val_loss: 0.0601 - val_accuracy: 0.9941\n",
            "Epoch 29/40\n",
            "998/998 - 28s - loss: 0.0585 - accuracy: 0.9942 - val_loss: 0.0595 - val_accuracy: 0.9941\n",
            "Epoch 30/40\n",
            "998/998 - 27s - loss: 0.0580 - accuracy: 0.9942 - val_loss: 0.0591 - val_accuracy: 0.9941\n",
            "Epoch 31/40\n",
            "998/998 - 27s - loss: 0.0575 - accuracy: 0.9942 - val_loss: 0.0588 - val_accuracy: 0.9941\n",
            "Epoch 32/40\n",
            "998/998 - 27s - loss: 0.0571 - accuracy: 0.9942 - val_loss: 0.0586 - val_accuracy: 0.9941\n",
            "Epoch 33/40\n",
            "998/998 - 27s - loss: 0.0567 - accuracy: 0.9942 - val_loss: 0.0583 - val_accuracy: 0.9941\n",
            "Epoch 34/40\n",
            "998/998 - 27s - loss: 0.0563 - accuracy: 0.9942 - val_loss: 0.0581 - val_accuracy: 0.9941\n",
            "Epoch 35/40\n",
            "998/998 - 27s - loss: 0.0561 - accuracy: 0.9942 - val_loss: 0.0578 - val_accuracy: 0.9941\n",
            "Epoch 36/40\n",
            "998/998 - 27s - loss: 0.0558 - accuracy: 0.9942 - val_loss: 0.0580 - val_accuracy: 0.9941\n",
            "Epoch 37/40\n",
            "998/998 - 27s - loss: 0.0555 - accuracy: 0.9942 - val_loss: 0.0575 - val_accuracy: 0.9941\n",
            "Epoch 38/40\n",
            "998/998 - 27s - loss: 0.0553 - accuracy: 0.9942 - val_loss: 0.0572 - val_accuracy: 0.9941\n",
            "Epoch 39/40\n",
            "998/998 - 27s - loss: 0.0551 - accuracy: 0.9942 - val_loss: 0.0571 - val_accuracy: 0.9941\n",
            "Epoch 40/40\n",
            "998/998 - 27s - loss: 0.0548 - accuracy: 0.9942 - val_loss: 0.0570 - val_accuracy: 0.9941\n"
          ],
          "name": "stdout"
        }
      ]
    },
    {
      "cell_type": "code",
      "metadata": {
        "id": "2UPrMYLI3hJm",
        "colab_type": "code",
        "colab": {
          "base_uri": "https://localhost:8080/",
          "height": 573
        },
        "outputId": "d8f57d93-866b-45bf-d986-82e497952271"
      },
      "source": [
        "#Plot the accuracy metrics\n",
        "plt.plot(hist2.history['loss'], color = 'blue', label = 'train')\n",
        "plt.plot(hist2.history['val_loss'], color = 'orange', label = 'test')\n",
        "plt.title(\"Training and validation loss with epochs\")\n",
        "plt.ylabel(\"Training & test loss\")\n",
        "plt.xlabel(\"Number of epochs\")\n",
        "plt.grid()\n",
        "plt.legend()\n",
        "plt.show()\n",
        "\n",
        "plt.plot(hist2.history['accuracy'], color = 'blue', label = 'train')\n",
        "plt.plot(hist2.history['val_accuracy'], color = 'orange', label = 'test')\n",
        "plt.title(\"Training and validation accuracy with epochs\")\n",
        "plt.ylabel(\"Training & test accuracy\")\n",
        "plt.xlabel(\"Number of epochs\")\n",
        "plt.grid()\n",
        "plt.legend()\n",
        "plt.show()\n"
      ],
      "execution_count": null,
      "outputs": [
        {
          "output_type": "display_data",
          "data": {
            "image/png": "[encoded data removed]",
            "text/plain": [
              "<Figure size 432x288 with 1 Axes>"
            ]
          },
          "metadata": {
            "tags": [],
            "needs_background": "light"
          }
        },
        {
          "output_type": "display_data",
          "data": {
            "image/png": "[encoded data removed]",
            "text/plain": [
              "<Figure size 432x288 with 1 Axes>"
            ]
          },
          "metadata": {
            "tags": [],
            "needs_background": "light"
          }
        }
      ]
    },
    {
      "cell_type": "code",
      "metadata": {
        "id": "18DfQULS-Cb2",
        "colab_type": "code",
        "colab": {}
      },
      "source": [
        "sents_test = pd.read_csv(\"/content/drive/My Drive/test_preprocessed.csv\")"
      ],
      "execution_count": null,
      "outputs": []
    },
    {
      "cell_type": "code",
      "metadata": {
        "id": "-r_ICgVb9nW7",
        "colab_type": "code",
        "colab": {}
      },
      "source": [
        "#Tokenizing\n",
        "tokenizer = Tokenizer(num_words = 20000)\n",
        "tokenizer.fit_on_texts(sents_test)\n",
        "sequences_test = tokenizer.texts_to_sequences(sents_test)\n",
        "\n",
        "#Word to index\n",
        "wordtoid = tokenizer.word_index\n",
        "\n",
        "#Add padding to sequences to get equal length matrix\n",
        "test_data = pad_sequences(sequences, maxlen = 50)"
      ],
      "execution_count": null,
      "outputs": []
    },
    {
      "cell_type": "code",
      "metadata": {
        "id": "02nxJZQmEbhi",
        "colab_type": "code",
        "colab": {
          "base_uri": "https://localhost:8080/",
          "height": 52
        },
        "outputId": "603b372e-ddc5-429c-c088-30863f8c1d96"
      },
      "source": [
        "test_accuracy = test_metrics[1]\n",
        "test_loss = test_metrics[0]\n",
        "print(test_accuracy)\n",
        "print(test_loss)"
      ],
      "execution_count": null,
      "outputs": [
        {
          "output_type": "stream",
          "text": [
            "[0.00492887 0.00012626 0.0012011  0.00027134 0.00145747 0.00068878]\n",
            "[0.00465276 0.00014092 0.00128774 0.00035691 0.00145186 0.00077605]\n"
          ],
          "name": "stdout"
        }
      ]
    },
    {
      "cell_type": "code",
      "metadata": {
        "id": "Bw1hfjd7-8ss",
        "colab_type": "code",
        "colab": {}
      },
      "source": [
        "####Looks like the model with lr 0.00001 is overfitting."
      ],
      "execution_count": null,
      "outputs": []
    }
  ]
}