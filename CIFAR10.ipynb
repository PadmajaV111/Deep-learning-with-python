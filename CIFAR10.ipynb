{
  "nbformat": 4,
  "nbformat_minor": 0,
  "metadata": {
    "colab": {
      "name": "CIFAR10.ipynb",
      "provenance": [],
      "collapsed_sections": [],
      "toc_visible": true
    },
    "kernelspec": {
      "name": "python3",
      "display_name": "Python 3"
    },
    "widgets": {
      "application/vnd.jupyter.widget-state+json": {
        "acc605fb4ac643588eaa7e69a0c887b0": {
          "model_module": "@jupyter-widgets/controls",
          "model_name": "HBoxModel",
          "state": {
            "_view_name": "HBoxView",
            "_dom_classes": [],
            "_model_name": "HBoxModel",
            "_view_module": "@jupyter-widgets/controls",
            "_model_module_version": "1.5.0",
            "_view_count": null,
            "_view_module_version": "1.5.0",
            "box_style": "",
            "layout": "IPY_MODEL_ebfed61984ee45e7badb221005b78a4c",
            "_model_module": "@jupyter-widgets/controls",
            "children": [
              "IPY_MODEL_973e351f24a944d48eb978ff8be21b0e",
              "IPY_MODEL_32f99403ca874e84a8d2709dd79be2f2"
            ]
          }
        },
        "ebfed61984ee45e7badb221005b78a4c": {
          "model_module": "@jupyter-widgets/base",
          "model_name": "LayoutModel",
          "state": {
            "_view_name": "LayoutView",
            "grid_template_rows": null,
            "right": null,
            "justify_content": null,
            "_view_module": "@jupyter-widgets/base",
            "overflow": null,
            "_model_module_version": "1.2.0",
            "_view_count": null,
            "flex_flow": null,
            "width": null,
            "min_width": null,
            "border": null,
            "align_items": null,
            "bottom": null,
            "_model_module": "@jupyter-widgets/base",
            "top": null,
            "grid_column": null,
            "overflow_y": null,
            "overflow_x": null,
            "grid_auto_flow": null,
            "grid_area": null,
            "grid_template_columns": null,
            "flex": null,
            "_model_name": "LayoutModel",
            "justify_items": null,
            "grid_row": null,
            "max_height": null,
            "align_content": null,
            "visibility": null,
            "align_self": null,
            "height": null,
            "min_height": null,
            "padding": null,
            "grid_auto_rows": null,
            "grid_gap": null,
            "max_width": null,
            "order": null,
            "_view_module_version": "1.2.0",
            "grid_template_areas": null,
            "object_position": null,
            "object_fit": null,
            "grid_auto_columns": null,
            "margin": null,
            "display": null,
            "left": null
          }
        },
        "973e351f24a944d48eb978ff8be21b0e": {
          "model_module": "@jupyter-widgets/controls",
          "model_name": "IntProgressModel",
          "state": {
            "_view_name": "ProgressView",
            "style": "IPY_MODEL_10a10355317248fc9c4cac4eb1d6b7c6",
            "_dom_classes": [],
            "description": "",
            "_model_name": "IntProgressModel",
            "bar_style": "success",
            "max": 1,
            "_view_module": "@jupyter-widgets/controls",
            "_model_module_version": "1.5.0",
            "value": 1,
            "_view_count": null,
            "_view_module_version": "1.5.0",
            "orientation": "horizontal",
            "min": 0,
            "description_tooltip": null,
            "_model_module": "@jupyter-widgets/controls",
            "layout": "IPY_MODEL_4ad08d1bdc494a5f87d3291c1483fa0c"
          }
        },
        "32f99403ca874e84a8d2709dd79be2f2": {
          "model_module": "@jupyter-widgets/controls",
          "model_name": "HTMLModel",
          "state": {
            "_view_name": "HTMLView",
            "style": "IPY_MODEL_b2836fa050284372bfd348274a8cfe46",
            "_dom_classes": [],
            "description": "",
            "_model_name": "HTMLModel",
            "placeholder": "​",
            "_view_module": "@jupyter-widgets/controls",
            "_model_module_version": "1.5.0",
            "value": " 170500096/? [05:45&lt;00:00, 492891.41it/s]",
            "_view_count": null,
            "_view_module_version": "1.5.0",
            "description_tooltip": null,
            "_model_module": "@jupyter-widgets/controls",
            "layout": "IPY_MODEL_377530efe3c54912a47733fa797d17af"
          }
        },
        "10a10355317248fc9c4cac4eb1d6b7c6": {
          "model_module": "@jupyter-widgets/controls",
          "model_name": "ProgressStyleModel",
          "state": {
            "_view_name": "StyleView",
            "_model_name": "ProgressStyleModel",
            "description_width": "initial",
            "_view_module": "@jupyter-widgets/base",
            "_model_module_version": "1.5.0",
            "_view_count": null,
            "_view_module_version": "1.2.0",
            "bar_color": null,
            "_model_module": "@jupyter-widgets/controls"
          }
        },
        "4ad08d1bdc494a5f87d3291c1483fa0c": {
          "model_module": "@jupyter-widgets/base",
          "model_name": "LayoutModel",
          "state": {
            "_view_name": "LayoutView",
            "grid_template_rows": null,
            "right": null,
            "justify_content": null,
            "_view_module": "@jupyter-widgets/base",
            "overflow": null,
            "_model_module_version": "1.2.0",
            "_view_count": null,
            "flex_flow": null,
            "width": null,
            "min_width": null,
            "border": null,
            "align_items": null,
            "bottom": null,
            "_model_module": "@jupyter-widgets/base",
            "top": null,
            "grid_column": null,
            "overflow_y": null,
            "overflow_x": null,
            "grid_auto_flow": null,
            "grid_area": null,
            "grid_template_columns": null,
            "flex": null,
            "_model_name": "LayoutModel",
            "justify_items": null,
            "grid_row": null,
            "max_height": null,
            "align_content": null,
            "visibility": null,
            "align_self": null,
            "height": null,
            "min_height": null,
            "padding": null,
            "grid_auto_rows": null,
            "grid_gap": null,
            "max_width": null,
            "order": null,
            "_view_module_version": "1.2.0",
            "grid_template_areas": null,
            "object_position": null,
            "object_fit": null,
            "grid_auto_columns": null,
            "margin": null,
            "display": null,
            "left": null
          }
        },
        "b2836fa050284372bfd348274a8cfe46": {
          "model_module": "@jupyter-widgets/controls",
          "model_name": "DescriptionStyleModel",
          "state": {
            "_view_name": "StyleView",
            "_model_name": "DescriptionStyleModel",
            "description_width": "",
            "_view_module": "@jupyter-widgets/base",
            "_model_module_version": "1.5.0",
            "_view_count": null,
            "_view_module_version": "1.2.0",
            "_model_module": "@jupyter-widgets/controls"
          }
        },
        "377530efe3c54912a47733fa797d17af": {
          "model_module": "@jupyter-widgets/base",
          "model_name": "LayoutModel",
          "state": {
            "_view_name": "LayoutView",
            "grid_template_rows": null,
            "right": null,
            "justify_content": null,
            "_view_module": "@jupyter-widgets/base",
            "overflow": null,
            "_model_module_version": "1.2.0",
            "_view_count": null,
            "flex_flow": null,
            "width": null,
            "min_width": null,
            "border": null,
            "align_items": null,
            "bottom": null,
            "_model_module": "@jupyter-widgets/base",
            "top": null,
            "grid_column": null,
            "overflow_y": null,
            "overflow_x": null,
            "grid_auto_flow": null,
            "grid_area": null,
            "grid_template_columns": null,
            "flex": null,
            "_model_name": "LayoutModel",
            "justify_items": null,
            "grid_row": null,
            "max_height": null,
            "align_content": null,
            "visibility": null,
            "align_self": null,
            "height": null,
            "min_height": null,
            "padding": null,
            "grid_auto_rows": null,
            "grid_gap": null,
            "max_width": null,
            "order": null,
            "_view_module_version": "1.2.0",
            "grid_template_areas": null,
            "object_position": null,
            "object_fit": null,
            "grid_auto_columns": null,
            "margin": null,
            "display": null,
            "left": null
          }
        }
      }
    }
  },
  "cells": [
    {
      "cell_type": "markdown",
      "metadata": {
        "id": "67PZpxZT3hEA",
        "colab_type": "text"
      },
      "source": [
        "#####For Neural Network Layer dimension, pls refer:\n",
        "https://docs.google.com/document/d/15bQU7XRonOu9Pn1nDtkJVp2CruWG09jOQaRUEOoUs4I/edit?usp=sharing"
      ]
    },
    {
      "cell_type": "code",
      "metadata": {
        "id": "dx7DwfsL0u1q",
        "colab_type": "code",
        "colab": {
          "base_uri": "https://localhost:8080/",
          "height": 34
        },
        "outputId": "9b55424c-95a3-4f7c-a4ec-6a432b25441e"
      },
      "source": [
        "import tensorflow as tf\n",
        "tf.test.gpu_device_name()"
      ],
      "execution_count": null,
      "outputs": [
        {
          "output_type": "execute_result",
          "data": {
            "text/plain": [
              "'/device:GPU:0'"
            ]
          },
          "metadata": {
            "tags": []
          },
          "execution_count": 1
        }
      ]
    },
    {
      "cell_type": "code",
      "metadata": {
        "id": "WO89H1gccvv9",
        "colab_type": "code",
        "colab": {}
      },
      "source": [
        "import pandas as pd\n",
        "import numpy as np"
      ],
      "execution_count": null,
      "outputs": []
    },
    {
      "cell_type": "code",
      "metadata": {
        "id": "YgN0wPpMatch",
        "colab_type": "code",
        "colab": {}
      },
      "source": [
        "import torch\n",
        "import torchvision\n",
        "from torchvision.transforms import transforms"
      ],
      "execution_count": null,
      "outputs": []
    },
    {
      "cell_type": "code",
      "metadata": {
        "id": "tiaMceU_bLVG",
        "colab_type": "code",
        "colab": {}
      },
      "source": [
        "transform = transforms.Compose([transforms.ToTensor(), transforms.Normalize((0.5,0.5,0.5),(0.5,0.5,0.5))])"
      ],
      "execution_count": null,
      "outputs": []
    },
    {
      "cell_type": "code",
      "metadata": {
        "id": "rThYv3TOq_s-",
        "colab_type": "code",
        "colab": {
          "base_uri": "https://localhost:8080/",
          "height": 83,
          "referenced_widgets": [
            "acc605fb4ac643588eaa7e69a0c887b0",
            "ebfed61984ee45e7badb221005b78a4c",
            "973e351f24a944d48eb978ff8be21b0e",
            "32f99403ca874e84a8d2709dd79be2f2",
            "10a10355317248fc9c4cac4eb1d6b7c6",
            "4ad08d1bdc494a5f87d3291c1483fa0c",
            "b2836fa050284372bfd348274a8cfe46",
            "377530efe3c54912a47733fa797d17af"
          ]
        },
        "outputId": "82612070-9192-470f-c2b5-2c6213d66259"
      },
      "source": [
        "#trainset = torchvision.datasets.CIFAR10(root='/content/cifar', train=True, download=True, transform=transform)"
      ],
      "execution_count": null,
      "outputs": [
        {
          "output_type": "stream",
          "text": [
            "Downloading https://www.cs.toronto.edu/~kriz/cifar-10-python.tar.gz to /content/cifar/cifar-10-python.tar.gz\n"
          ],
          "name": "stdout"
        },
        {
          "output_type": "display_data",
          "data": {
            "application/vnd.jupyter.widget-view+json": {
              "model_id": "acc605fb4ac643588eaa7e69a0c887b0",
              "version_minor": 0,
              "version_major": 2
            },
            "text/plain": [
              "HBox(children=(IntProgress(value=1, bar_style='info', max=1), HTML(value='')))"
            ]
          },
          "metadata": {
            "tags": []
          }
        },
        {
          "output_type": "stream",
          "text": [
            "Extracting /content/cifar/cifar-10-python.tar.gz to /content/cifar\n"
          ],
          "name": "stdout"
        }
      ]
    },
    {
      "cell_type": "code",
      "metadata": {
        "id": "pgD4g7-8gPW4",
        "colab_type": "code",
        "colab": {}
      },
      "source": [
        "#The file is already in google drive, pls don't download again.\n",
        "trainset = torchvision.datasets.CIFAR10(root=\"/content/drive/My Drive/app\", train=True, download=False, transform=transform)"
      ],
      "execution_count": null,
      "outputs": []
    },
    {
      "cell_type": "code",
      "metadata": {
        "id": "a_uals2LvAmP",
        "colab_type": "code",
        "colab": {}
      },
      "source": [
        "trainloader = torch.utils.data.DataLoader(trainset, batch_size=4, shuffle=True)"
      ],
      "execution_count": null,
      "outputs": []
    },
    {
      "cell_type": "code",
      "metadata": {
        "id": "QZ8t73VnvKDP",
        "colab_type": "code",
        "colab": {}
      },
      "source": [
        "def unpickle(file):\n",
        "    import pickle\n",
        "    with open(file, 'rb') as fo:\n",
        "        dict = pickle.load(fo, encoding='bytes')\n",
        "    return dict"
      ],
      "execution_count": null,
      "outputs": []
    },
    {
      "cell_type": "code",
      "metadata": {
        "id": "O1TQKG6JzOd9",
        "colab_type": "code",
        "colab": {}
      },
      "source": [
        "bat1_dict = unpickle('/content/cifar/cifar-10-batches-py/data_batch_1')"
      ],
      "execution_count": null,
      "outputs": []
    },
    {
      "cell_type": "code",
      "metadata": {
        "id": "Ndx6F1JZzkTe",
        "colab_type": "code",
        "colab": {
          "base_uri": "https://localhost:8080/",
          "height": 34
        },
        "outputId": "3c49d4e2-691a-4f0c-bf37-f7275494621c"
      },
      "source": [
        "testset = torchvision.datasets.CIFAR10(root = \"/content/cifar\", train = False, download = True, transform=transform)"
      ],
      "execution_count": null,
      "outputs": [
        {
          "output_type": "stream",
          "text": [
            "Files already downloaded and verified\n"
          ],
          "name": "stdout"
        }
      ]
    },
    {
      "cell_type": "code",
      "metadata": {
        "id": "oJUCEjMGzgkr",
        "colab_type": "code",
        "colab": {}
      },
      "source": [
        "testloader = torch.utils.data.DataLoader(testset, batch_size=4, shuffle=False)"
      ],
      "execution_count": null,
      "outputs": []
    },
    {
      "cell_type": "code",
      "metadata": {
        "id": "H4WZU9lnzaiM",
        "colab_type": "code",
        "colab": {}
      },
      "source": [
        "classes = (\"plane\", \"car\", \"bird\", \"cat\", \"deer\", \"dog\", \"frog\", \"horse\", \"ship\", \"truck\")"
      ],
      "execution_count": null,
      "outputs": []
    },
    {
      "cell_type": "code",
      "metadata": {
        "id": "Dez5HB2PzaAh",
        "colab_type": "code",
        "colab": {}
      },
      "source": [
        "import matplotlib.pyplot as plt\n",
        "def convert_to_imshow_format(image):\n",
        "  image = image/2 + 0.5\n",
        "  image = image.numpy()\n",
        "  return image.transpose(1,2,0)\n"
      ],
      "execution_count": null,
      "outputs": []
    },
    {
      "cell_type": "code",
      "metadata": {
        "id": "KdY7XFslyGDA",
        "colab_type": "code",
        "colab": {}
      },
      "source": [
        "dataiter = iter(trainloader)\n",
        "images, labels = dataiter.next()"
      ],
      "execution_count": null,
      "outputs": []
    },
    {
      "cell_type": "code",
      "metadata": {
        "id": "ipCGWTR-ye4-",
        "colab_type": "code",
        "colab": {
          "base_uri": "https://localhost:8080/",
          "height": 186
        },
        "outputId": "6651e874-1886-4c25-9e2f-def3ee35841e"
      },
      "source": [
        "fig, axes = plt.subplots(1, len(images), figsize = (12,2.5))\n",
        "for idx, image in enumerate(images):\n",
        "  axes[idx].imshow(convert_to_imshow_format(image))\n",
        "  axes[idx].set_title(classes[labels[idx]])\n",
        "  axes[idx].set_xticks([])\n",
        "  axes[idx].set_yticks([])"
      ],
      "execution_count": null,
      "outputs": [
        {
          "output_type": "display_data",
          "data": {
            "image/png": "[encoded data removed]",
            "text/plain": [
              "<Figure size 864x180 with 4 Axes>"
            ]
          },
          "metadata": {
            "tags": []
          }
        }
      ]
    },
    {
      "cell_type": "markdown",
      "metadata": {
        "id": "WTayB-7BBGKq",
        "colab_type": "text"
      },
      "source": [
        "#####Input > Conv (ReLU) > MaxPool > Conv (ReLU) > MaxPool > FC (ReLU) > FC (ReLU) > FC (SoftMax) > 10 outputs"
      ]
    },
    {
      "cell_type": "code",
      "metadata": {
        "id": "1Wi7bhpMBJOK",
        "colab_type": "code",
        "colab": {}
      },
      "source": [
        "import torch.nn as nn\n",
        "import torch.nn.functional as F\n",
        "\n",
        "class Net(nn.Module):\n",
        "  def __init__(self):\n",
        "    super(Net, self).__init__()  #Input is 3*32*32\n",
        "    self.Conv1 = nn.Conv2d(3,6,5) #1st Conv: 3 channels, 6 filters, 5*5 kernel, o/p:(32-5)+1=28\n",
        "    self.pool = nn.MaxPool2d(2,2)#1st pool: 2*2, o/p:6*14*14\n",
        "    self.Conv2 = nn.Conv2d(6,16,5)#2nd Conv: 6 channels, 16 filter, 5*5 kernel, o/p:(14-5)+1=10\n",
        "    self.pool = nn.MaxPool2d(2*2)#2nd pool: 2*2, o/p:16*5*5\n",
        "    self.fc1 = nn.Linear(16 * 5 * 5, 120)#ReLU activation & needs 120 nodes.((16*5*5)+1)*120, Visit torch.tensor.view\n",
        "    self.fc2 = nn.Linear(120, 84)#ReLU activation & needs 84 nodes, 120 from previous line\n",
        "    self.fc3 = nn.Linear(84, 10)#Softmax activation & needs 10 nodes for 10 classes of CIFAR10 labels\n",
        "\n",
        "  def Forward(self, x):\n",
        "    x = self.pool(F.relu(self.conv1(x)))\n",
        "    x = self.pool(F.relu(self.conv2(x)))\n",
        "    x = x.view(-1, 16 * 5 * 5)\n",
        "    x = F.relu(self.fc1(x))\n",
        "    x = F.relu(self.fc2(x))\n",
        "    x = self.fc3(x)\n",
        "    return x\n",
        "\n",
        "net = Net()"
      ],
      "execution_count": null,
      "outputs": []
    },
    {
      "cell_type": "markdown",
      "metadata": {
        "id": "cMliGzwf9VQw",
        "colab_type": "text"
      },
      "source": [
        "######Defining the loss function to Cross-entropy as it is multi class classification. Optimization will be stochastic gradient descent(SGD)"
      ]
    },
    {
      "cell_type": "code",
      "metadata": {
        "id": "_6kOiBpBoQgq",
        "colab_type": "code",
        "colab": {}
      },
      "source": [
        "import torch.nn as nn\n",
        "import torch.nn.functional as F\n",
        "\n",
        "class Net(nn.Module):\n",
        "    def __init__(self):\n",
        "        super(Net, self).__init__()\n",
        "        self.conv1 = nn.Conv2d(3, 6, 5)\n",
        "        self.pool = nn.MaxPool2d(2, 2)\n",
        "        self.conv2 = nn.Conv2d(6, 16, 5)\n",
        "        self.fc1 = nn.Linear(16 * 5 * 5, 120)\n",
        "        self.fc2 = nn.Linear(120, 84)\n",
        "        self.fc3 = nn.Linear(84, 10)\n",
        "\n",
        "    def forward(self, x):\n",
        "        x = self.pool(F.relu(self.conv1(x)))\n",
        "        x = self.pool(F.relu(self.conv2(x)))\n",
        "        x = x.view(-1, 16 * 5 * 5)\n",
        "        x = F.relu(self.fc1(x))\n",
        "        x = F.relu(self.fc2(x))\n",
        "        x = self.fc3(x)\n",
        "        return x\n",
        "    \n",
        "net = Net()"
      ],
      "execution_count": null,
      "outputs": []
    },
    {
      "cell_type": "code",
      "metadata": {
        "id": "jSTVereF9C64",
        "colab_type": "code",
        "colab": {}
      },
      "source": [
        "import torch.optim as optim\n",
        "\n",
        "criterion = nn.CrossEntropyLoss()\n",
        "optimizer = optim.SGD(net.parameters(), lr=0.001, momentum=0.9)"
      ],
      "execution_count": null,
      "outputs": []
    },
    {
      "cell_type": "code",
      "metadata": {
        "id": "Ym8V2UN89454",
        "colab_type": "code",
        "colab": {
          "base_uri": "https://localhost:8080/",
          "height": 289
        },
        "outputId": "499cc1e4-1a00-4ace-eb98-143385594af7"
      },
      "source": [
        "import os\n",
        "\n",
        "model_directory_path = \"/content/drive/My Drive/app\"\n",
        "model_path = model_directory_path + \"cifar-10-cnn-model.pt\"\n",
        "\n",
        "if not os.path.exists(model_directory_path):\n",
        "  os.makedirs(model_directory_path)\n",
        "if os.path.isfile(model_directory_path):\n",
        "  net.load_state_dict(torch.load(model_path))#Load trained parameters from disk if model is present else run model#\n",
        "  print(\"Loaded model parameters from disk\")\n",
        "else:\n",
        "  for epoch in range(2):#Loop on dataset multiple times\n",
        "    running_loss = 0.0\n",
        "    for i, data in enumerate(trainloader,0):\n",
        "      inputs, labels = data#Get inputs\n",
        "\n",
        "      optimizer.zero_grad()#Zero parameter gradients\n",
        "      \n",
        "      outputs = net(inputs)#forward+backward+optimize\n",
        "      loss = criterion(outputs, labels)\n",
        "      loss.backward()\n",
        "      optimizer.step()\n",
        "\n",
        "      running_loss += loss.item()\n",
        "      if i % 2000 == 1999:\n",
        "        print(\"[%d, %5d]) loss: %.3f\"%\n",
        "              (epoch +1, i+1, running_loss/2000))\n",
        "        running_loss = 0.0\n",
        "    print(\"Finished training\")\n",
        "    torch.save(net.state_dict(), model_path)#Saving the model to model_path(path defined in the beginning)\n",
        "    print(\"Save model parameters to disk\")\n"
      ],
      "execution_count": null,
      "outputs": [
        {
          "output_type": "stream",
          "text": [
            "[1,  2000]) loss: 2.165\n",
            "[1,  4000]) loss: 1.849\n",
            "[1,  6000]) loss: 1.689\n",
            "[1,  8000]) loss: 1.595\n",
            "[1, 10000]) loss: 1.564\n",
            "[1, 12000]) loss: 1.506\n",
            "Finished training\n",
            "Save model parameters to disk\n",
            "[2,  2000]) loss: 1.433\n",
            "[2,  4000]) loss: 1.406\n",
            "[2,  6000]) loss: 1.419\n",
            "[2,  8000]) loss: 1.367\n",
            "[2, 10000]) loss: 1.326\n",
            "[2, 12000]) loss: 1.320\n",
            "Finished training\n",
            "Save model parameters to disk\n"
          ],
          "name": "stdout"
        }
      ]
    },
    {
      "cell_type": "code",
      "metadata": {
        "id": "IcFjOnPdnGLj",
        "colab_type": "code",
        "colab": {
          "base_uri": "https://localhost:8080/",
          "height": 186
        },
        "outputId": "18775de8-f3d3-4c3f-8e0a-b2a767cf69e2"
      },
      "source": [
        "dataiter = iter(testloader)\n",
        "images, labels = dataiter.next()\n",
        "\n",
        "fig, axes = plt.subplots(1, len(images), figsize=(12, 2.5))\n",
        "for idx, image in enumerate(images):\n",
        "  axes[idx].imshow(convert_to_imshow_format(image))\n",
        "  axes[idx].set_title(classes[labels[idx]])\n",
        "  axes[idx].set_xticks([])\n",
        "  axes[idx].set_yticks([])"
      ],
      "execution_count": null,
      "outputs": [
        {
          "output_type": "display_data",
          "data": {
            "image/png": "[encoded data removed]",
            "text/plain": [
              "<Figure size 864x180 with 4 Axes>"
            ]
          },
          "metadata": {
            "tags": []
          }
        }
      ]
    },
    {
      "cell_type": "code",
      "metadata": {
        "id": "Hy86MQPkqFTa",
        "colab_type": "code",
        "colab": {
          "base_uri": "https://localhost:8080/",
          "height": 153
        },
        "outputId": "4b98a436-2bc8-4235-dcd8-be9c2d62cd82"
      },
      "source": [
        "outputs = net(images)\n",
        "outputs\n",
        "\n",
        "(\"plane\", \"car\", \"bird\", \"cat\", \"deer\", \"dog\", \"frog\", \"horse\", \"ship\", \"truck\")"
      ],
      "execution_count": null,
      "outputs": [
        {
          "output_type": "execute_result",
          "data": {
            "text/plain": [
              "tensor([[-1.3797, -3.4482,  1.4272,  4.3514,  0.6656,  2.7949,  2.9661, -2.2010,\n",
              "         -1.7980, -3.0914],\n",
              "        [ 4.5347, 10.0481, -2.4995, -3.6417, -5.3645, -5.6254, -5.3158, -5.3752,\n",
              "          5.5999,  5.8172],\n",
              "        [ 1.4669,  4.0127, -0.9596, -1.2606, -2.2512, -2.2867, -1.8446, -3.1248,\n",
              "          3.2539,  2.1375],\n",
              "        [ 3.5700,  1.8924, -0.4290, -1.8911, -0.7565, -2.8035, -3.2087, -1.6331,\n",
              "          3.4874,  1.5291]], grad_fn=<AddmmBackward>)"
            ]
          },
          "metadata": {
            "tags": []
          },
          "execution_count": 32
        }
      ]
    },
    {
      "cell_type": "code",
      "metadata": {
        "id": "ZEo9Mjv9qgdC",
        "colab_type": "code",
        "colab": {
          "base_uri": "https://localhost:8080/",
          "height": 170
        },
        "outputId": "0588387a-9ffe-4aae-a582-78591c849a2d"
      },
      "source": [
        "#If we want probaility score, nn.Softmax can be used\n",
        "sm = nn.Softmax(dim=1)\n",
        "sm_outputs = sm(outputs)\n",
        "print(sm_outputs)"
      ],
      "execution_count": null,
      "outputs": [
        {
          "output_type": "stream",
          "text": [
            "tensor([[2.0958e-03, 2.6486e-04, 3.4704e-02, 6.4612e-01, 1.6203e-02, 1.3625e-01,\n",
            "         1.6169e-01, 9.2183e-04, 1.3794e-03, 3.7840e-04],\n",
            "        [3.9137e-03, 9.7061e-01, 3.4490e-06, 1.1007e-06, 1.9653e-07, 1.5140e-07,\n",
            "         2.0635e-07, 1.9444e-07, 1.1355e-02, 1.4111e-02],\n",
            "        [4.5603e-02, 5.8159e-01, 4.0289e-03, 2.9815e-03, 1.1072e-03, 1.0686e-03,\n",
            "         1.6627e-03, 4.6221e-04, 2.7232e-01, 8.9176e-02],\n",
            "        [4.3831e-01, 8.1882e-02, 8.0359e-03, 1.8623e-03, 5.7914e-03, 7.4785e-04,\n",
            "         4.9867e-04, 2.4104e-03, 4.0353e-01, 5.6937e-02]],\n",
            "       grad_fn=<SoftmaxBackward>)\n"
          ],
          "name": "stdout"
        }
      ]
    },
    {
      "cell_type": "code",
      "metadata": {
        "id": "tzqOiTJzudYb",
        "colab_type": "code",
        "colab": {
          "base_uri": "https://localhost:8080/",
          "height": 85
        },
        "outputId": "e3c85b8b-fff2-4be0-b3b4-bbcbabd6305b"
      },
      "source": [
        "#Predicted category for 4 test images\n",
        "probs, index = torch.max(sm_outputs, dim=1)\n",
        "\n",
        "for p, i in zip(probs, index):\n",
        "  print(\"{0} - {1:.4f}\".format(classes[i],p))"
      ],
      "execution_count": null,
      "outputs": [
        {
          "output_type": "stream",
          "text": [
            "cat - 0.6461\n",
            "car - 0.9706\n",
            "car - 0.5816\n",
            "plane - 0.4383\n"
          ],
          "name": "stdout"
        }
      ]
    },
    {
      "cell_type": "code",
      "metadata": {
        "id": "TY_4r28hviSp",
        "colab_type": "code",
        "colab": {}
      },
      "source": [
        ""
      ],
      "execution_count": null,
      "outputs": []
    }
  ]
}